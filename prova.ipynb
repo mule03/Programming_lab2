{
 "cells": [
  {
   "cell_type": "code",
   "execution_count": null,
   "metadata": {},
   "outputs": [],
   "source": []
  },
  {
   "cell_type": "markdown",
   "metadata": {},
   "source": [
    "Sto scrivendo"
   ]
  },
  {
   "cell_type": "code",
   "execution_count": 2,
   "metadata": {},
   "outputs": [
    {
     "name": "stdout",
     "output_type": "stream",
     "text": [
      "5\n",
      "ciao\n",
      "33.6 ns ± 0.463 ns per loop (mean ± std. dev. of 7 runs, 10,000,000 loops each)\n"
     ]
    }
   ],
   "source": [
    "a=0\n",
    "b=5\n",
    "print(a+b)\n",
    "print(\"ciao\")\n",
    "\n",
    "%timeit [a*b]"
   ]
  },
  {
   "cell_type": "markdown",
   "metadata": {},
   "source": [
    "LIST COMPRENTION\n",
    "\n",
    "\n"
   ]
  },
  {
   "cell_type": "code",
   "execution_count": 3,
   "metadata": {},
   "outputs": [
    {
     "name": "stdout",
     "output_type": "stream",
     "text": [
      "i numeri della list comorendion [0, 1, 4, 9, 16, 25, 36, 49, 64, 81]\n",
      "[0, 2, 4, 6, 8, 10]\n",
      "5\n"
     ]
    }
   ],
   "source": [
    "numeri = []\n",
    "\n",
    "for x in range(10):\n",
    "    numeri.append(x*x)\n",
    "    \n",
    "#con la list comprention\n",
    "\n",
    "numeris= [x*x for x in range(10)]\n",
    "\n",
    "print(\"i numeri della list comorendion\" ,format(numeris))\n",
    "\n",
    "pari = [x for x in range(11) if x%2==0]\n",
    "\n",
    "print(pari)\n",
    "\n",
    "#controllare tutti i valori di una lista sono all'interno di un altra lista\n",
    "\n",
    "prima=[1,2,3]\n",
    "\n",
    "seconda=[2,3]\n",
    "\n",
    "all(mio in seconda for mio in prima) #dato che non è presente il numero 1 il programma darà come risultato \"false\"\n",
    "\n",
    "#creazione di una funzione più velocemnte tramite lambda\n",
    "\n",
    "funzione_Somma= lambda x,y:x+y\n",
    "\n",
    "ris=funzione_Somma(2,3)\n",
    "\n",
    "print(ris)"
   ]
  },
  {
   "cell_type": "markdown",
   "metadata": {},
   "source": [
    "esempio con list comprention\n"
   ]
  },
  {
   "cell_type": "code",
   "execution_count": 4,
   "metadata": {},
   "outputs": [
    {
     "name": "stdout",
     "output_type": "stream",
     "text": [
      "[1100.0, 2200.0]\n"
     ]
    }
   ],
   "source": [
    "lista= [1000,2000]\n",
    "\n",
    "def calcola(salariobase, bonus=.1):\n",
    "    return salariobase* (1+bonus)\n",
    "\n",
    "salario= [calcola(salario) for salario in lista]\n",
    "\n",
    "print(salario)"
   ]
  },
  {
   "cell_type": "markdown",
   "metadata": {},
   "source": [
    "Stesso esempio con lambda"
   ]
  },
  {
   "cell_type": "code",
   "execution_count": 5,
   "metadata": {},
   "outputs": [
    {
     "name": "stdout",
     "output_type": "stream",
     "text": [
      "[1100.0, 2200.0]\n"
     ]
    }
   ],
   "source": [
    "lista= [1000,2000]\n",
    "funzione = [(lambda salariobase,bonus=.1: salariobase*(1+bonus))(salario) for salario in lista]\n",
    "\n",
    "\n",
    "\n",
    "print(funzione)"
   ]
  },
  {
   "cell_type": "markdown",
   "metadata": {},
   "source": [
    "Modulo\n",
    "\n",
    "per creare un file si fa:"
   ]
  },
  {
   "cell_type": "code",
   "execution_count": 6,
   "metadata": {},
   "outputs": [
    {
     "name": "stdout",
     "output_type": "stream",
     "text": [
      "Overwriting modulo.py\n"
     ]
    }
   ],
   "source": [
    "%%writefile modulo.py\n",
    "# per modificarlo devo fare %%writefile -a modulo.py\n",
    "def somma(x,y):\n",
    "    return x+y"
   ]
  },
  {
   "cell_type": "markdown",
   "metadata": {},
   "source": [
    "Per usare il mio modulo"
   ]
  },
  {
   "cell_type": "code",
   "execution_count": 7,
   "metadata": {},
   "outputs": [
    {
     "data": {
      "text/plain": [
       "3"
      ]
     },
     "execution_count": 7,
     "metadata": {},
     "output_type": "execute_result"
    }
   ],
   "source": [
    "import modulo\n",
    "\n",
    "modulo.somma(1,2)"
   ]
  },
  {
   "cell_type": "markdown",
   "metadata": {},
   "source": [
    "NumPy"
   ]
  },
  {
   "cell_type": "code",
   "execution_count": 8,
   "metadata": {},
   "outputs": [
    {
     "name": "stdout",
     "output_type": "stream",
     "text": [
      "Retrieving notices: done\n",
      "Channels:\n",
      " - defaults\n",
      "Platform: osx-arm64\n",
      "Collecting package metadata (repodata.json): done\n",
      "Solving environment: done\n",
      "\n",
      "# All requested packages already installed.\n",
      "\n",
      "\n",
      "Note: you may need to restart the kernel to use updated packages.\n"
     ]
    }
   ],
   "source": [
    "#installazione \n",
    "\n",
    "%conda install numpy\n",
    "\n",
    "#importazione\n",
    "\n",
    "\n",
    "import numpy as np\n",
    "\n",
    "\n",
    "\n"
   ]
  },
  {
   "cell_type": "code",
   "execution_count": 9,
   "metadata": {},
   "outputs": [
    {
     "name": "stdout",
     "output_type": "stream",
     "text": [
      "[1 2 3 4 5]\n"
     ]
    },
    {
     "data": {
      "text/plain": [
       "array([1., 2.])"
      ]
     },
     "execution_count": 9,
     "metadata": {},
     "output_type": "execute_result"
    }
   ],
   "source": [
    "#uso su array\n",
    "\n",
    "a=np.array([1,2,3,4,5])\n",
    "\n",
    "print(a)\n",
    "\n",
    "#per capire il tipo di dato\n",
    "\n",
    "a.dtype\n",
    "\n",
    "#posso dire io che tipo di dato voglio\n",
    "\n",
    "afloat=np.array([1,2],dtype=\"float\")\n",
    "\n",
    "afloat\n",
    "\n"
   ]
  },
  {
   "cell_type": "markdown",
   "metadata": {},
   "source": [
    "Indicizzazione booleana: estrarre elementi che soddisfano un certa condizione oppure per modificare gli elementi che hanno una certa condizione"
   ]
  },
  {
   "cell_type": "code",
   "execution_count": 15,
   "metadata": {},
   "outputs": [
    {
     "name": "stdout",
     "output_type": "stream",
     "text": [
      "[1 2]\n",
      "False\n",
      "True\n",
      "array iniziale [34000 45000     2]\n",
      "[ True  True False]\n",
      "prova (array([0, 1]),)\n",
      "[34000 45000     4]\n",
      "[140768, 102031, 132154, 125383, 100999, 128177, 130323, 140961, 123610, 109971]\n",
      "[34000 79000 79002]\n",
      "1\n",
      "2\n",
      "-0.9965822620202727\n",
      "[6 8 6]\n",
      "[False  True]\n",
      "[ True  True]\n",
      "['2.000000000000000000e+00' '7.000000000000000000e+00'\n",
      " '2.000000000000000000e+00']\n"
     ]
    }
   ],
   "source": [
    "a=np.array([1,2,3,4,5])\n",
    "\n",
    "b=a[a<3]\n",
    "\n",
    "print(b)\n",
    "\n",
    "print(np.any(a>5))\n",
    "print(np.all(a<6))\n",
    "\n",
    "#array 1d dove i valori i dati sulle vendite e devo trovare i valori che sono maggiori di 30000\n",
    "\n",
    "vendite = np.array([34_000,45_000,2])\n",
    "print(\"array iniziale\",vendite)\n",
    "\n",
    "array_vero_falso=vendite>30000\n",
    "print(array_vero_falso)\n",
    "\n",
    "print(\"prova\",np.where(vendite>30000))\n",
    "\n",
    "salary_array=np.where(vendite<30000,4,vendite)\n",
    "print(salary_array)\n",
    "\n",
    "#random\n",
    "import random\n",
    "salary = [random.randint(100000,150000) for num in range(10)]\n",
    "print(salary)\n",
    "\n",
    "#sommacululativa\n",
    "\n",
    "cumulativa=np.cumsum(vendite)\n",
    "\n",
    "print(cumulativa)\n",
    "\n",
    "#prodotto scalare e vettoriale\n",
    "\n",
    "#operazioni statistiche: media,mediana ecc\n",
    "\n",
    "media=np.mean(vendite)\n",
    "media\n",
    "\n",
    "#indice del valore massimo o minimo\n",
    "\n",
    "print(np.argmax(vendite))#ritorna l'indice\n",
    "print(np.argmin(vendite))\n",
    "\n",
    "#campionemento causale\n",
    "\n",
    "print(np.random.normal(loc=0.0,scale=1.0,size=None)) #vanno dai valori da -1 a 2 loc=valore medio, scale=varianza(quanto cambia dal mio valore media)\n",
    "\n",
    "print(np.random.randint(0,10,3)) #valore minimo, valore massimo, grandezza array\n",
    "\n",
    "#ATTENZIONE !!\n",
    "a=np.array([0.1+0.2,2.0])\n",
    "b=np.array([0.3,2.0])\n",
    "\n",
    "print(a==b)\n",
    "print(np.isclose(a,b))\n",
    "\n",
    "#caricare e salvare file numpy\n",
    "\n",
    "#caricare dati\n",
    "\n",
    "passeggeri=np.loadtxt('ciao.csv',delimiter=\",\",dtype=str)\n",
    "print(passeggeri)\n",
    "\n",
    "#salvare\n",
    "\n",
    "array_random=(np.random.randint(0,10,3))\n",
    "np.savetxt('ciao.csv',array_random)\n"
   ]
  },
  {
   "cell_type": "markdown",
   "metadata": {},
   "source": [
    "MATRICI"
   ]
  },
  {
   "cell_type": "code",
   "execution_count": 11,
   "metadata": {},
   "outputs": [
    {
     "name": "stdout",
     "output_type": "stream",
     "text": [
      "[[1 2 3]\n",
      " [4 5 6]]\n",
      "[[0. 0.]\n",
      " [0. 0.]\n",
      " [0. 0.]]\n",
      "[[ 0  1  2  3  4]\n",
      " [ 5  6  7  8  9]\n",
      " [10 11 12 13 14]\n",
      " [15 16 17 18 19]]\n",
      "[ 1 12]\n",
      "190\n",
      "[30 34 38 42 46]\n",
      "[10 35 60 85]\n",
      "[[2 4]\n",
      " [4 6]]\n",
      "[[1 2]\n",
      " [2 3]\n",
      " [1 2]\n",
      " [2 3]]\n",
      "[array([2, 4]), array([4, 6])]\n"
     ]
    }
   ],
   "source": [
    "a=np.array([[1,2,3],[4,5,6]])\n",
    "print(a)\n",
    "\n",
    "b=np.zeros((3,2))#matrici che hano tutti valore 0 con 3 righe e 2 colonnne\n",
    "print(b)\n",
    "\n",
    "#creare una matrice con arrange e shape\n",
    "\n",
    "c=np.arange(20).reshape((4,5)) #vlaori che vanno da 0 a 30 e la forma è di 4 righe e 5 colonne\n",
    "print(c)\n",
    "#se voglio seleizonare il numero 3 da a come devo fare?\n",
    "\n",
    "a[0][-1]\n",
    "\n",
    "#se lo devo fare in una matrice, se voglio trovare l'elemento con riga di indice 1 e colonna con indice 2\n",
    "\n",
    "c[1,2]\n",
    "\n",
    "#FANDCY INDEXING: selezionare più elementi\n",
    "\n",
    "righe=np.array([0,2]) #riga o e riga 2\n",
    "colonna=np.array([1,2]) #colonna 1 e colonna 2\n",
    "\n",
    "print(c[righe,colonna])\n",
    "\n",
    "#axis: operazioni su righe e colonne di una matrice\n",
    "\n",
    "print(c.sum())#sommo tutta la matrice\n",
    "print(c.sum(axis=0)) #rispetto alle colonne\n",
    "print(c.sum(axis=1)) #rispetto alle righe\n",
    "\n",
    "#operazioni tra matrici\n",
    "\n",
    "f=np.array([[1,2],[2,3]])\n",
    "g=np.array([[1,2],[2,3]])\n",
    "\n",
    "print(f+g)\n",
    "\n",
    "#array ndimensionali\n",
    "\n",
    "array3d=np.array(([1,2],[2,3],[1,2],[2,3]))\n",
    "\n",
    "print(array3d)\n",
    "\n",
    "#vettorizzazione\n",
    "\n",
    "c=[]\n",
    "\n",
    "for i in range((len(f))):\n",
    "    c.append(f[i]+g[i])\n",
    "    \n",
    "print(c)\n"
   ]
  }
 ],
 "metadata": {
  "kernelspec": {
   "display_name": "base",
   "language": "python",
   "name": "python3"
  },
  "language_info": {
   "codemirror_mode": {
    "name": "ipython",
    "version": 3
   },
   "file_extension": ".py",
   "mimetype": "text/x-python",
   "name": "python",
   "nbconvert_exporter": "python",
   "pygments_lexer": "ipython3",
   "version": "3.12.7"
  }
 },
 "nbformat": 4,
 "nbformat_minor": 2
}
