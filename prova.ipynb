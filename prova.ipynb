{
 "cells": [
  {
   "cell_type": "code",
   "execution_count": null,
   "metadata": {},
   "outputs": [],
   "source": []
  },
  {
   "cell_type": "markdown",
   "metadata": {},
   "source": [
    "Sto scrivendo"
   ]
  },
  {
   "cell_type": "code",
   "execution_count": 4,
   "metadata": {},
   "outputs": [
    {
     "name": "stdout",
     "output_type": "stream",
     "text": [
      "5\n",
      "ciao\n",
      "38.5 ns ± 1.17 ns per loop (mean ± std. dev. of 7 runs, 10,000,000 loops each)\n"
     ]
    }
   ],
   "source": [
    "a=0\n",
    "b=5\n",
    "print(a+b)\n",
    "print(\"ciao\")\n",
    "\n",
    "%timeit [a*b]"
   ]
  },
  {
   "cell_type": "markdown",
   "metadata": {},
   "source": [
    "LIST COMPRENTION\n",
    "\n",
    "\n"
   ]
  },
  {
   "cell_type": "code",
   "execution_count": null,
   "metadata": {},
   "outputs": [
    {
     "name": "stdout",
     "output_type": "stream",
     "text": [
      "i numeri della list comorendion [0, 1, 4, 9, 16, 25, 36, 49, 64, 81]\n",
      "[0, 2, 4, 6, 8, 10]\n",
      "5\n"
     ]
    }
   ],
   "source": [
    "numeri = []\n",
    "\n",
    "for x in range(10):\n",
    "    numeri.append(x*x)\n",
    "    \n",
    "#con la list comprention\n",
    "\n",
    "numeris= [x*x for x in range(10)]\n",
    "\n",
    "print(\"i numeri della list comorendion\" ,format(numeris))\n",
    "\n",
    "pari = [x for x in range(11) if x%2==0]\n",
    "\n",
    "print(pari)\n",
    "\n",
    "#controllare tutti i valori di una lista sono all'interno di un altra lista\n",
    "\n",
    "prima=[1,2,3]\n",
    "\n",
    "seconda=[2,3]\n",
    "\n",
    "all(mio in seconda for mio in prima) #dato che non è presente il numero 1 il programma darà come risultato \"false\"\n",
    "\n",
    "#creazione di una funzione più velocemnte tramite lambda\n",
    "\n",
    "funzione_Somma= lambda x,y:x+y\n",
    "\n",
    "ris=funzione_Somma(2,3)\n",
    "\n",
    "print(ris)"
   ]
  },
  {
   "cell_type": "markdown",
   "metadata": {},
   "source": [
    "esempio con list comprention\n"
   ]
  },
  {
   "cell_type": "code",
   "execution_count": null,
   "metadata": {},
   "outputs": [
    {
     "name": "stdout",
     "output_type": "stream",
     "text": [
      "[1100.0, 2200.0]\n"
     ]
    }
   ],
   "source": [
    "lista= [1000,2000]\n",
    "\n",
    "def calcola(salariobase, bonus=.1):\n",
    "    return salariobase* (1+bonus)\n",
    "\n",
    "salario= [calcola(salario) for salario in lista]\n",
    "\n",
    "print(salario)"
   ]
  },
  {
   "cell_type": "markdown",
   "metadata": {},
   "source": [
    "Stesso esempio con lambda"
   ]
  },
  {
   "cell_type": "code",
   "execution_count": 16,
   "metadata": {},
   "outputs": [
    {
     "name": "stdout",
     "output_type": "stream",
     "text": [
      "[1100.0, 2200.0]\n"
     ]
    }
   ],
   "source": [
    "lista= [1000,2000]\n",
    "funzione = [(lambda salariobase,bonus=.1: salariobase*(1+bonus))(salario) for salario in lista]\n",
    "\n",
    "\n",
    "\n",
    "print(funzione)"
   ]
  },
  {
   "cell_type": "markdown",
   "metadata": {},
   "source": [
    "Modulo\n",
    "\n",
    "per creare un file si fa:"
   ]
  },
  {
   "cell_type": "code",
   "execution_count": null,
   "metadata": {},
   "outputs": [
    {
     "name": "stdout",
     "output_type": "stream",
     "text": [
      "Writing modulo.py\n"
     ]
    }
   ],
   "source": [
    "%%writefile modulo.py\n",
    "# per modificarlo devo fare %%writefile -a modulo.py\n",
    "def somma(x,y):\n",
    "    return x+y"
   ]
  },
  {
   "cell_type": "markdown",
   "metadata": {},
   "source": [
    "Per usare il mio modulo"
   ]
  },
  {
   "cell_type": "code",
   "execution_count": 18,
   "metadata": {},
   "outputs": [
    {
     "data": {
      "text/plain": [
       "3"
      ]
     },
     "execution_count": 18,
     "metadata": {},
     "output_type": "execute_result"
    }
   ],
   "source": [
    "import modulo\n",
    "\n",
    "modulo.somma(1,2)"
   ]
  },
  {
   "cell_type": "markdown",
   "metadata": {},
   "source": [
    "NumPy"
   ]
  },
  {
   "cell_type": "code",
   "execution_count": null,
   "metadata": {},
   "outputs": [
    {
     "name": "stdout",
     "output_type": "stream",
     "text": [
      "Channels:\n",
      " - defaults\n",
      "Platform: osx-arm64\n",
      "Collecting package metadata (repodata.json): done\n",
      "Solving environment: done\n",
      "\n",
      "# All requested packages already installed.\n",
      "\n",
      "\n",
      "Note: you may need to restart the kernel to use updated packages.\n"
     ]
    },
    {
     "data": {
      "text/plain": [
       "array([1, 2, 3, 4, 5])"
      ]
     },
     "execution_count": 21,
     "metadata": {},
     "output_type": "execute_result"
    }
   ],
   "source": [
    "#installazione \n",
    "\n",
    "%conda install numpy\n",
    "\n",
    "#importazione\n",
    "\n",
    "\n",
    "import numpy as np\n",
    "\n",
    "\n",
    "\n"
   ]
  },
  {
   "cell_type": "code",
   "execution_count": null,
   "metadata": {},
   "outputs": [
    {
     "name": "stdout",
     "output_type": "stream",
     "text": [
      "[1 2 3 4 5]\n"
     ]
    },
    {
     "data": {
      "text/plain": [
       "array([1., 2.])"
      ]
     },
     "execution_count": 25,
     "metadata": {},
     "output_type": "execute_result"
    }
   ],
   "source": [
    "#uso su array\n",
    "\n",
    "a=np.array([1,2,3,4,5])\n",
    "\n",
    "print(a)\n",
    "\n",
    "#per capire il tipo di dato\n",
    "\n",
    "a.dtype\n",
    "\n",
    "#posso dire io che tipo di dato voglio\n",
    "\n",
    "afloat=np.array([1,2],dtype=\"float\")\n",
    "\n",
    "afloat\n",
    "\n"
   ]
  }
 ],
 "metadata": {
  "kernelspec": {
   "display_name": "base",
   "language": "python",
   "name": "python3"
  },
  "language_info": {
   "codemirror_mode": {
    "name": "ipython",
    "version": 3
   },
   "file_extension": ".py",
   "mimetype": "text/x-python",
   "name": "python",
   "nbconvert_exporter": "python",
   "pygments_lexer": "ipython3",
   "version": "3.12.7"
  }
 },
 "nbformat": 4,
 "nbformat_minor": 2
}
