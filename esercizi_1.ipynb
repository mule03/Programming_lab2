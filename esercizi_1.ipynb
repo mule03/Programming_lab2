{
 "cells": [
  {
   "cell_type": "code",
   "execution_count": null,
   "metadata": {
    "vscode": {
     "languageId": "latex"
    }
   },
   "outputs": [],
   "source": [
    "Trasformare cicli in list comprehension\n",
    "Fai tre esempi di cicli producono una lista e poi riscrivi lo stesso codice usando la list comprehension"
   ]
  },
  {
   "cell_type": "code",
   "execution_count": 17,
   "metadata": {},
   "outputs": [
    {
     "name": "stdout",
     "output_type": "stream",
     "text": [
      "Lista 1 senza comprention: [2, 3, 4, 5, 6, 7, 8, 9]\n",
      "Lista 2 senza comprention: [3, 6, 9]\n",
      "Lista 3 senza comprention: [3, 5, 7, 9, 11, 13, 15, 17, 19]\n",
      "---------\n",
      "Lista 1 con comprention: [2, 3, 4, 5, 6, 7, 8, 9]\n",
      "Lista 2 con comprention: [3, 6, 9]\n",
      "Lista 3 con comprention: [3, 5, 7, 9, 11, 13, 15, 17, 19]\n"
     ]
    }
   ],
   "source": [
    "lista1 =[]\n",
    "lista2=[]\n",
    "lista3=[]\n",
    "\n",
    "#ciclo1\n",
    "\n",
    "for x in range(2,10):\n",
    "    lista1.append(x)\n",
    "    \n",
    "print(\"Lista 1 senza comprention:\",lista1)\n",
    "#ciclo2\n",
    "\n",
    "for x in range(2,10):\n",
    "    if x%3==0:\n",
    "        lista2.append(x)\n",
    "    \n",
    "print(\"Lista 2 senza comprention:\",lista2)\n",
    "#ciclo3\n",
    "\n",
    "for x in range(2,20):\n",
    "    if x%2!=0:\n",
    "        lista3.append(x)\n",
    "    \n",
    "print(\"Lista 3 senza comprention:\",lista3)\n",
    "\n",
    "#con list comprehension\n",
    "\n",
    "print(\"---------\")\n",
    "\n",
    "lista1_c=[x for x in range(2,10)]\n",
    "\n",
    "print(\"Lista 1 con comprention:\",lista1_c)\n",
    "\n",
    "lista2_c=[x for x in range(2,10) if x%3==0]\n",
    "\n",
    "print(\"Lista 2 con comprention:\",lista2_c)\n",
    "\n",
    "lista3_c=[x for x in range(2,20) if x%2!=0]\n",
    "\n",
    "print(\"Lista 3 con comprention:\",lista3_c)\n",
    "\n"
   ]
  },
  {
   "cell_type": "markdown",
   "metadata": {},
   "source": [
    "2. Vettore di Numeri Primi\n",
    "Crea un vettore contenente tutti i numeri primi compresi tra 0 e 10\n",
    "(Puoi scriverli direttamente nell'array).\n",
    "\n",
    "Conta quanti numeri ci sono nel vettore utilizzando la funzione len(). Ottieni lo stesso numero accedendo all'attributo .size del vettore.\n",
    "\n",
    "Quale pensi sia il tipo di dato (dtype) del vettore? Prova a rispondere senza eseguire il codice e Verifica la tua risposta accedendo all'attributo .dtype del vettore\n",
    "\n",
    "Scrivi l'array usando una list comprehension che controlla che i numeri siano primi."
   ]
  },
  {
   "cell_type": "code",
   "execution_count": 24,
   "metadata": {},
   "outputs": [
    {
     "name": "stdout",
     "output_type": "stream",
     "text": [
      "Vettore dei numeri primi: [2. 3. 5. 7.]\n",
      "Lunghezza con len(): 4\n",
      "Dimensione con .size: 4\n",
      "float64\n",
      "[2 3 5 7]\n"
     ]
    }
   ],
   "source": [
    "import numpy as np\n",
    "\n",
    "# Inizializziamo un array NumPy vuoto di tipo intero\n",
    "vettore = np.array([])\n",
    "\n",
    "for x in range(1, 11):  \n",
    "    is_prime = True  \n",
    "    for i in range(2, int(x ** 0.5) + 1):  \n",
    "        if x % i == 0:  \n",
    "            is_prime = False\n",
    "            break  \n",
    "    if is_prime and x > 1:  # Escludiamo 1, che non è primo\n",
    "        vettore = np.append(vettore, x)  \n",
    "\n",
    "print(\"Vettore dei numeri primi:\", vettore)\n",
    "\n",
    "# Funzione len()\n",
    "print(\"Lunghezza con len():\", len(vettore))\n",
    "\n",
    "# Funzione size (NumPy)\n",
    "print(\"Dimensione con .size:\", vettore.size)\n",
    "print(vettore.dtype)\n",
    "\n",
    "#con list comprention\n",
    "\n",
    "vettorel=np.array([x for x in range(2,11) if all(x%i !=0 for i in range(2,int(x**0.5)+1))])\n",
    "\n",
    "print(vettorel)"
   ]
  },
  {
   "cell_type": "markdown",
   "metadata": {},
   "source": [
    "3. Operazioni su array\n",
    "Crea un array a, 1D (senza digitarlo esplicitamente), e genera due nuovi array b, contenente una sottostringa a piacere e c che è il reverse dell'array a (esempio [1,2,3] diventa [3,2,1]) . Dividi l'array a per l'array c. Fai la stessa cosa per una list"
   ]
  },
  {
   "cell_type": "code",
   "execution_count": 58,
   "metadata": {},
   "outputs": [
    {
     "name": "stdout",
     "output_type": "stream",
     "text": [
      "b= [0 1 2 3 4 5 6 7 8 9]\n",
      "a= [1 2 3]\n",
      "c= [3 2 1]\n",
      "divisione tra a e c= [0.33333333 1.         3.        ]\n"
     ]
    }
   ],
   "source": [
    "array=np.array([1,2,3],dtype=int)\n",
    "\n",
    "b=np.arange(10)\n",
    "print(\"b=\",b)\n",
    "c=np.array([],dtype=int)\n",
    "print(\"a=\",array)\n",
    "for x in range(0,len(array)):\n",
    "    \n",
    "    temp=array[x]\n",
    "    c=np.append(c,array[len(array)-1-x])\n",
    "    \n",
    "\n",
    "\n",
    "print(\"c=\",c)\n",
    "\n",
    "print(\"divisione tra a e c=\",array/c)\n",
    "\n",
    "\n",
    "\n",
    "\n",
    "\n",
    "\n",
    "\n"
   ]
  }
 ],
 "metadata": {
  "kernelspec": {
   "display_name": "base",
   "language": "python",
   "name": "python3"
  },
  "language_info": {
   "codemirror_mode": {
    "name": "ipython",
    "version": 3
   },
   "file_extension": ".py",
   "mimetype": "text/x-python",
   "name": "python",
   "nbconvert_exporter": "python",
   "pygments_lexer": "ipython3",
   "version": "3.12.7"
  }
 },
 "nbformat": 4,
 "nbformat_minor": 2
}
