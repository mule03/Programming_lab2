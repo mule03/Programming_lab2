{
 "cells": [
  {
   "cell_type": "markdown",
   "metadata": {},
   "source": []
  },
  {
   "cell_type": "markdown",
   "metadata": {},
   "source": [
    "1. Indicizzazione booleana\n",
    "\n",
    "Creare un nuovo vettore con tutti i numeri primi tra 0 e 20. I numeri primi compresi tra 0 e 20 sono: 2, 3, 5, 7, 11, 13, 17, 19.\n",
    "Utilizza un test logico (ad esempio >, <, ==, !=) per selezionare tutte le voci del vettore maggiori di 10.\n",
    "Utilizza un test logico per selezionare tutti i numeri primi pari dalla lista."
   ]
  },
  {
   "cell_type": "code",
   "execution_count": 2,
   "metadata": {},
   "outputs": [
    {
     "name": "stdout",
     "output_type": "stream",
     "text": [
      "1. La mia lista e': [ 2  3  5  7 11 13 17 19]\n",
      "2. I numeri maggirori di 10 sono [11 13 17 19]\n",
      "3. I numeri pari sono [2]\n"
     ]
    }
   ],
   "source": [
    "import numpy as np\n",
    "\n",
    "numeri_primi=np.array([2,3,5,7,11,13,17,19])\n",
    "\n",
    "print(\"1. La mia lista e':\", numeri_primi)\n",
    "\n",
    "primi_10=numeri_primi[np.where(numeri_primi>10)]\n",
    "\n",
    "print(\"2. I numeri maggirori di 10 sono\",primi_10)\n",
    "\n",
    "pari=numeri_primi[np.where(numeri_primi%2==0)]\n",
    "\n",
    "print(\"3. I numeri pari sono\",pari)\n"
   ]
  },
  {
   "cell_type": "markdown",
   "metadata": {},
   "source": [
    "2. Operazioni su array\n",
    "Crea un array a, 2D (senza digitarlo esplicitamente), e genera due nuovi array b, contenente la sua 2ª e 4ª riga, e c contenente solo la 3ª. Dividi ogni colonna dell'array a, elemento per elemento, con l'array c."
   ]
  },
  {
   "cell_type": "code",
   "execution_count": 3,
   "metadata": {},
   "outputs": [
    {
     "name": "stdout",
     "output_type": "stream",
     "text": [
      "1. Array a:  [[0 1]\n",
      " [2 3]\n",
      " [4 5]\n",
      " [6 7]]\n",
      "2. Array b: [[2 3]\n",
      " [6 7]]\n",
      "3. Array c: [[4 5]]\n"
     ]
    }
   ],
   "source": [
    "a=np.arange(8).reshape((4,2))\n",
    "\n",
    "print(\"1. Array a: \",a)\n",
    "\n",
    "b=a[[1,3]]\n",
    "\n",
    "print(\"2. Array b:\",b)\n",
    "\n",
    "c=a[[2]]\n",
    "\n",
    "print(\"3. Array c:\",c)\n",
    "\n"
   ]
  },
  {
   "cell_type": "markdown",
   "metadata": {},
   "source": [
    "3. Seleziona il numero più vicino a 0.5 in un array casuale\n",
    "Genera un array 10 x 3 con numeri casuali nell'intervallo [0,1]. Per ogni riga, seleziona il numero più vicino a 0.5. Per farlo usa il fancy indexing."
   ]
  },
  {
   "cell_type": "code",
   "execution_count": 55,
   "metadata": {},
   "outputs": [
    {
     "name": "stdout",
     "output_type": "stream",
     "text": [
      "[[0.98587573 0.69942904 0.00892891]\n",
      " [0.8299325  0.97907588 0.0491326 ]\n",
      " [0.73359455 0.98725049 0.24899143]\n",
      " [0.30399979 0.63928092 0.58737438]\n",
      " [0.9134175  0.54755647 0.11267856]\n",
      " [0.15622812 0.1541657  0.17422613]\n",
      " [0.50249201 0.34860697 0.82984674]\n",
      " [0.15862555 0.33380096 0.93902825]\n",
      " [0.89448592 0.00307826 0.58174589]\n",
      " [0.89947787 0.93708303 0.99581192]]\n"
     ]
    },
    {
     "data": {
      "text/plain": [
       "array([0.69942904, 0.8299325 , 0.73359455, 0.58737438, 0.54755647,\n",
       "       0.17422613, 0.50249201, 0.33380096, 0.58174589, 0.89947787])"
      ]
     },
     "execution_count": 55,
     "metadata": {},
     "output_type": "execute_result"
    }
   ],
   "source": [
    "\n",
    "a=np.random.rand(10,3) #creao un array di numeri radndom compreso da 0 e 1 di grandezza 10 x 3\n",
    "\n",
    "print(a)\n",
    "\n",
    "colonne = np.abs(a - 0.5).argmin(axis=1) #abs calcolo la distnazna di ogni elemento con 0,5\n",
    "\n",
    "righe=np.arange(10)\n",
    "\n",
    "nuovo=a[righe,colonne]\n",
    "\n",
    "nuovo\n",
    "\n",
    "\n"
   ]
  },
  {
   "cell_type": "markdown",
   "metadata": {},
   "source": [
    "4. Analisi della Frequenza Cardiaca con NumPy"
   ]
  },
  {
   "cell_type": "code",
   "execution_count": 45,
   "metadata": {},
   "outputs": [
    {
     "name": "stdout",
     "output_type": "stream",
     "text": [
      "minimo: 60\n",
      "massimo: 164\n",
      "[[False False False False  True  True  True  True  True  True  True  True\n",
      "   True  True  True False False False False False False]]\n",
      "52.38095238095239\n"
     ]
    }
   ],
   "source": [
    "a=np.array([68, 65, 77, 110, 160, 161, 162, 161, 160, 161, 162, 163, 164, 163, 162, 100, 90, 97, 72, 60, 70])\n",
    "\n",
    "minimo=min(a)\n",
    "print(\"minimo:\",minimo)\n",
    "massimo=max(a)\n",
    "print(\"massimo:\",massimo)\n",
    "\n",
    "b=np.array([a>120])\n",
    "\n",
    "print(b)\n",
    "maggioridi120=a[np.where(a>120)]\n",
    "\n",
    "conteggio=a.size\n",
    "maggioridi120.size\n",
    "percentuale=(maggioridi120.size/a.size)*100\n",
    "print(percentuale)\n",
    "\n"
   ]
  },
  {
   "cell_type": "markdown",
   "metadata": {},
   "source": [
    "5. Manipolazione di vettori"
   ]
  },
  {
   "cell_type": "code",
   "execution_count": 6,
   "metadata": {},
   "outputs": [
    {
     "name": "stdout",
     "output_type": "stream",
     "text": [
      "costo personale inziale:  299250.0\n",
      "nuovi stipendi:  [ 60000.  121037.5  66000.  106800. ]\n",
      "costo personale modificato: 353837.5\n",
      "C'è stato un aumento di  54587.5\n"
     ]
    }
   ],
   "source": [
    "a=np.array([50000,105250,55000,89000],dtype=float)\n",
    "\n",
    "costo_personale=sum(a)\n",
    "\n",
    "print(\"costo personale inziale: \",costo_personale)\n",
    "massimo=max(a)\n",
    "a[np.where(a==massimo)]=massimo+((massimo*15)/100)\n",
    "a[np.where(a==50000)]=50000+((50000*20))/100\n",
    "a[np.where(a==89000)]=89000+((89000*20))/100\n",
    "a[np.where(a==55000)]=55000+((55000*20))/100\n",
    "print(\"nuovi stipendi: \",a)\n",
    "\n",
    "costo_personale_modificato=sum(a)\n",
    "\n",
    "print(\"costo personale modificato:\",costo_personale_modificato)\n",
    "\n",
    "costo_aumento=costo_personale_modificato-costo_personale\n",
    "\n",
    "print(\"C'è stato un aumento di \",costo_aumento)\n",
    "\n"
   ]
  },
  {
   "cell_type": "markdown",
   "metadata": {},
   "source": [
    "6. Valori di Co2"
   ]
  },
  {
   "cell_type": "code",
   "execution_count": 7,
   "metadata": {},
   "outputs": [
    {
     "name": "stdout",
     "output_type": "stream",
     "text": [
      "totale: 2444.8700000000013\n",
      "somma valori sopra le 18t: 19729\n",
      "8.069549710209536\n"
     ]
    }
   ],
   "source": [
    "valori=np.loadtxt('emissioni.txt',dtype=float)\n",
    "\n",
    "totale =sum(valori)\n",
    "print(\"totale:\",totale)\n",
    "somma=0\n",
    "for x in range(0,valori.size):\n",
    "    if x>18.:\n",
    "        somma+=x\n",
    "\n",
    "print(\"somma valori sopra le 18t:\",somma)\n",
    "\n",
    "frazione=somma/totale\n",
    "\n",
    "print(frazione)"
   ]
  },
  {
   "cell_type": "markdown",
   "metadata": {},
   "source": [
    "7. Analisi di una matrice"
   ]
  },
  {
   "cell_type": "code",
   "execution_count": 8,
   "metadata": {},
   "outputs": [
    {
     "name": "stdout",
     "output_type": "stream",
     "text": [
      "[52000 63000 58000]\n"
     ]
    },
    {
     "data": {
      "text/plain": [
       "57666.666666666664"
      ]
     },
     "execution_count": 8,
     "metadata": {},
     "output_type": "execute_result"
    }
   ],
   "source": [
    "survey_matrix = np.array([ [25, 40000, 10], [32, 52000, 12], [40, 63000, 14], [29, 47000, 11], [35, 58000, 13] ])\n",
    "\n",
    "filtrati = survey_matrix[survey_matrix[:, 2] >= 12,1]  #righe: survey_matrix[:, 2] >= 12 ovvero solo quelle che hanno il valore >12 poi per selezionarmi solo le colonne #colonne ,1\n",
    "print(filtrati)\n",
    "\n",
    "sum(filtrati)\n",
    "\n",
    "np.mean(filtrati)"
   ]
  },
  {
   "cell_type": "markdown",
   "metadata": {},
   "source": [
    "8. Rimpiazzare gli outliers\n"
   ]
  },
  {
   "cell_type": "code",
   "execution_count": 9,
   "metadata": {},
   "outputs": [
    {
     "name": "stdout",
     "output_type": "stream",
     "text": [
      "L'età del cittadino più anziano è: 112\n"
     ]
    }
   ],
   "source": [
    "ages = np.array([92, 108, 75, 63, 62, 66, 90, 98, 97, 92, 60, 107, 90, 71, 97, 86, 55, 55,\n",
    "                 98, 57, 96, 104, 96, 94, 72, 98, 111, 98, 89, 69, 77, 92, 85, 101, 93, 100,\n",
    "                 90, 101, 96, 98, 999, 87, 106, 86, 108, 55, 67, 65, 68, 59, 67, 72, 57, 79,\n",
    "                 95, 67, 86, 70, 91, 111, 67, 75, 59, 88, 90, 99, 94, 65, 111, 103, 100, 70,\n",
    "                 63, 65, 100, 110, 999, 70, 57, 75, 56, 104, 111, 90, 74, 100, 90, 86, 88, 99,\n",
    "                 58, 103, 88, 103, 64, 96, 105, 89, 83, 65, 100, 62, 73, 105, 83, 105, 58, 96,\n",
    "                 77, 74, 95, 109, 91, 101, 91, 999, 63, 111, 97, 108, 75, 77, 73, 58, 94, 83,\n",
    "                 90, 61, 110, 107, 105, 85, 64, 66, 71, 107, 105, 72, 78, 66, 100, 102, 72, 999,\n",
    "                 74, 68, 73, 72, 90, 93, 99, 55, 92, 83, 58, 71, 89, 75, 98, 87, 999, 78,\n",
    "                 97, 71, 106, 83, 58, 81, 100, 72, 93, 70, 65, 60, 95, 107, 94, 77, 87, 90,\n",
    "                 82, 56, 99, 107, 86, 56, 73, 96, 64, 69, 64, 92, 57, 104, 110, 69, 66, 68,\n",
    "                 84, 89, 72, 80, 55, 75, 87, 57, 106, 69, 66, 62, 102, 76, 111, 999, 96, 83,\n",
    "                 84, 61, 102, 63, 107, 63, 76, 58, 83, 58, 61, 71, 77, 90, 74, 100, 103, 74,\n",
    "                 92, 102, 63, 87, 93, 61, 63, 86, 74, 98, 64, 999, 78, 95, 84, 81, 107, 85,\n",
    "                 79, 82, 89, 65, 107, 57, 74, 77, 97, 92, 58, 96, 105, 60, 55, 74, 57, 80,\n",
    "                 62, 85, 87, 62, 999, 71, 74, 70, 97, 59, 82, 96, 105, 70, 89, 105, 60, 70,\n",
    "                 87, 999, 64, 108, 107, 104, 85, 95, 108, 74, 64, 97, 89, 88, 79, 67, 81, 92,\n",
    "                 63, 80, 76, 94, 104, 67, 73, 61, 99, 96, 68, 90, 86, 79, 85, 111, 75, 98,\n",
    "                 81, 111, 108, 103, 85, 72, 108, 102, 999, 64, 107, 112, 66, 93, 89, 78, 66, 92,\n",
    "                 63, 101, 92, 64, 72, 56, 71, 64, 87, 78, 107, 85, 109, 95, 69, 111, 64, 72,\n",
    "                 55, 66, 99, 57, 78, 55, 58, 90, 88, 71, 90, 103, 92, 98, 67, 97, 77, 68,\n",
    "                 77, 59, 78, 69, 77, 81, 61, 99, 999, 85, 78, 104, 97, 95, 74, 70, 69, 83,\n",
    "                 68, 68, 77, 60, 85, 82, 93, 66, 71, 62, 64, 107, 999, 65, 78, 59, 83, 67,\n",
    "                 108,  58,  95, 106,  83,  79,  67,  59,  96,  90,  55,  55,  96, 109,  82,  55, 101,  58,\n",
    "                 97, 77, 60, 81, 999, 81, 75, 100, 66, 65, 105, 94, 101, 56, 999, 59, 105, 59,\n",
    "                 93, 56, 104, 74, 81, 62, 76, 65, 107, 60, 107, 98, 77, 86, 83, 104, 74, 69,\n",
    "                 97, 80, 91, 56, 108, 87, 65, 91, 93, 60, 91, 110, 107, 88, 96, 70, 60, 99,\n",
    "                 66, 91, 107, 65, 81, 109, 84, 106, 80, 92, 78, 84, 91, 59])\n",
    "\n",
    "\n",
    "ages=np.delete(ages,np.where(ages==999))\n",
    "\n",
    "massimo=max(ages)\n",
    "\n",
    "print(\"L'età del cittadino più anziano è:\",massimo)\n",
    "\n",
    "\n",
    "\n"
   ]
  },
  {
   "cell_type": "markdown",
   "metadata": {},
   "source": [
    "9.Generazione random di storie\n"
   ]
  },
  {
   "cell_type": "code",
   "execution_count": 64,
   "metadata": {},
   "outputs": [
    {
     "data": {
      "text/plain": [
       "\"In epoche passate, viveva una donna saggia che era molto orgogliosa dell'antico VANTAGGIO che proteggeva. Quando un anziano del villaggio venne a chiederle consiglio su come garantire al meglio un raccolto abbondante e le offrì il __ come dono, i suoi occhi si spalancarono e lei esclamò una sola parola, __. Radunò il villaggio e, per i successivi 100 giorni, su sua richiesta, gli abitanti cercarono nella foresta un __. Nel 101° giorno, il bambino più giovane del villaggio trovò ciò che stavano cercando e tutti corsero dalla donna saggia per donarglielo. Con un sorriso da un orecchio all’altro, e cantando canti di festa, la donna saggia guardò i suoi compaesani e disse: Ora è giunto il tempo del banchetto - nessuno rimarrà mai più senza _! Ci fu grande gioia e celebrazione.\""
      ]
     },
     "execution_count": 64,
     "metadata": {},
     "output_type": "execute_result"
    }
   ],
   "source": [
    "import random\n",
    "lista_parole = [\n",
    "    'INSEDIAMENTO', 'SEPARAZIONE', 'DIFFERENZA', 'APPLICAZIONE', 'ATTEGGIAMENTO', 'VERDURA', 'IMPERO', 'RICEVIMENTO',\n",
    "    'IGNORANZA', 'BIOGRAFIA', 'VISIONE', 'AGENTE DI POLIZIA', 'PROVA', 'PRESTAZIONE', 'PRESENTAZIONE', 'PARENTE',\n",
    "    'GIUSTIFICAZIONE', 'FILOSOFIA', 'DIREZIONE', 'BENEFICIARIO', 'BATTERIA', 'CERIMONIA', 'AGONIA', 'RECUPERO',\n",
    "    'ALFABETIZZAZIONE', 'CONSEGNA', 'SERBATOIO', 'VOLONTARIO', 'DEPOSITO', 'BIRILLO DA BOWLING', 'NEMICO', 'ANNUNCIO',\n",
    "    'CARAMELLA ZUCCHERATA', 'FULMINE', 'PALLONCINO', 'COPERTA', 'SCOPERTA', 'PENALITÀ', 'GENERALE', 'ALPACA',\n",
    "    'VANTAGGIO', 'HOT DOG', 'ABITO', 'MATEMATICA', 'VARIANTE'\n",
    "]\n",
    "\n",
    "\n",
    "\n",
    "parole_estratte = [random.choice(lista_parole) for x in range(5)]\n",
    "\n",
    "\n",
    "\n",
    "testo = \"In epoche passate, viveva una donna saggia che era molto orgogliosa dell'antico __ che proteggeva. Quando un anziano del villaggio venne a chiederle consiglio su come garantire al meglio un raccolto abbondante e le offrì il __ come dono, i suoi occhi si spalancarono e lei esclamò una sola parola, __. Radunò il villaggio e, per i successivi 100 giorni, su sua richiesta, gli abitanti cercarono nella foresta un __. Nel 101° giorno, il bambino più giovane del villaggio trovò ciò che stavano cercando e tutti corsero dalla donna saggia per donarglielo. Con un sorriso da un orecchio all’altro, e cantando canti di festa, la donna saggia guardò i suoi compaesani e disse: Ora è giunto il tempo del banchetto - nessuno rimarrà mai più senza _! Ci fu grande gioia e celebrazione.\"\n",
    "\n",
    "for i in range(5):\n",
    " fatto=testo.replace(\"__\",parole_estratte[i],1)\n",
    "\n",
    "fatto"
   ]
  }
 ],
 "metadata": {
  "kernelspec": {
   "display_name": "base",
   "language": "python",
   "name": "python3"
  },
  "language_info": {
   "codemirror_mode": {
    "name": "ipython",
    "version": 3
   },
   "file_extension": ".py",
   "mimetype": "text/x-python",
   "name": "python",
   "nbconvert_exporter": "python",
   "pygments_lexer": "ipython3",
   "version": "3.12.7"
  }
 },
 "nbformat": 4,
 "nbformat_minor": 2
}
